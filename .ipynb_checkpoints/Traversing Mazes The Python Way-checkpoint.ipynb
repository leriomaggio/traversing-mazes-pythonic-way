{
 "metadata": {
  "celltoolbar": "Slideshow",
  "name": "",
  "signature": "sha256:66df9973933d0700f7e941e9c289fbae46d8f3994c2784515345742f12ca8231"
 },
 "nbformat": 3,
 "nbformat_minor": 0,
 "worksheets": [
  {
   "cells": [
    {
     "cell_type": "markdown",
     "metadata": {
      "slideshow": {
       "slide_type": "skip"
      }
     },
     "source": [
      "## Slides Generation Cell\n",
      "\n",
      "### Skip it if you don't want to generate the slides"
     ]
    },
    {
     "cell_type": "code",
     "collapsed": false,
     "input": [
      "!ipython nbconvert ./Traversing\\ Mazes\\ The\\ Python\\ Way.ipynb --to slides --post serve --config slides_config.py"
     ],
     "language": "python",
     "metadata": {
      "slideshow": {
       "slide_type": "skip"
      }
     },
     "outputs": [
      {
       "output_type": "stream",
       "stream": "stdout",
       "text": [
        "[NbConvertApp] Using existing profile dir: '/Users/valerio/.ipython/profile_default'\r\n"
       ]
      },
      {
       "output_type": "stream",
       "stream": "stdout",
       "text": [
        "[NbConvertApp] Converting notebook ./Traversing Mazes The Python Way.ipynb to slides\r\n",
        "[NbConvertApp] Support files will be in Traversing Mazes The Python Way_files/\r\n"
       ]
      },
      {
       "output_type": "stream",
       "stream": "stdout",
       "text": [
        "[NbConvertApp] Loaded template default_transition.tpl\r\n"
       ]
      },
      {
       "output_type": "stream",
       "stream": "stdout",
       "text": [
        "[NbConvertApp] Writing 289661 bytes to Traversing Mazes The Python Way.slides.html\r\n"
       ]
      },
      {
       "output_type": "stream",
       "stream": "stdout",
       "text": [
        "[NbConvertApp] Serving local reveal.js\r\n",
        "Serving your slides at http://127.0.0.1:8000/Traversing Mazes The Python Way.slides.html\r\n",
        "Use Control-C to stop this server\r\n"
       ]
      },
      {
       "output_type": "stream",
       "stream": "stdout",
       "text": [
        "WARNING:tornado.access:404 GET /favicon.ico (127.0.0.1) 0.91ms\r\n"
       ]
      },
      {
       "output_type": "stream",
       "stream": "stdout",
       "text": [
        "^C\r\n",
        "Interrupted\r\n",
        "\r\n"
       ]
      }
     ],
     "prompt_number": 33
    },
    {
     "cell_type": "markdown",
     "metadata": {
      "slideshow": {
       "slide_type": "skip"
      }
     },
     "source": [
      "## Slides (from here on)"
     ]
    },
    {
     "cell_type": "markdown",
     "metadata": {
      "slideshow": {
       "slide_type": "slide"
      }
     },
     "source": [
      "<center>\n",
      "\n",
      "<h1> Traversing Mazes the Pythonic way</h1>\n",
      "<h1>and other algorithmic adventures<h1>\n",
      "\n",
      "    <p class=\"gap2\"></p>\n",
      "    \n",
      "    <h3> Valerio Maggio </h3>\n",
      "    <h5>[+ValerioMaggio](http://plus.google.com/+ValerioMaggio), [@leriomaggio](https://twitter.com/leriomaggio)</h5>\n",
      "    \n",
      "    <p class=\"gap\"></p>\n",
      "    \n",
      "    <p><img src=\"files/images/logo-big.png\" width=\"20%\" style=\"float: right;\"></p>\n",
      "    <h5 style=\"float: left; margin: 1em 0;\">valerio.maggio@gmail.com</h5>\n",
      "    \n",
      "    <p class=\"gap\"></p>\n",
      "</center>"
     ]
    },
    {
     "cell_type": "markdown",
     "metadata": {
      "slideshow": {
       "slide_type": "slide"
      }
     },
     "source": [
      "## Traversing Mazes\n",
      "\n",
      "* Mazes $\\rightarrow$ Graphs\n",
      "    - \"Mazes Traversal\"-related problems \n"
     ]
    },
    {
     "cell_type": "markdown",
     "metadata": {
      "slideshow": {
       "slide_type": "fragment"
      }
     },
     "source": [
      "* Mazes: Everyday data Structure for *RPG-addicted Gamer*\n",
      "\n",
      "* *The Hitchhiker's Guide for getting out from Dungeons in *D&D* *\n",
      "\n",
      "\n",
      "<p><img src=\"files/images/DD.png\" width=\"30%\" style=\"float: right;\"></p>"
     ]
    },
    {
     "cell_type": "markdown",
     "metadata": {
      "slideshow": {
       "slide_type": "subslide"
      }
     },
     "source": [
      "## Algorithmic Adventures\n",
      "\n",
      "> Algorithms are the most important and durable part of computer science \n",
      "> because \n",
      "> they can be studied in a language- and \n",
      "> machine-independent way.\n",
      "\n",
      "\n",
      "\n"
     ]
    },
    {
     "cell_type": "markdown",
     "metadata": {
      "slideshow": {
       "slide_type": "fragment"
      }
     },
     "source": [
      "* Very *Pythonic* angle"
     ]
    },
    {
     "cell_type": "markdown",
     "metadata": {
      "slideshow": {
       "slide_type": "fragment"
      }
     },
     "source": [
      "* (and btw) this is **not** supposed to be an Algorithm class!"
     ]
    },
    {
     "cell_type": "markdown",
     "metadata": {
      "slideshow": {
       "slide_type": "fragment"
      }
     },
     "source": [
      "- (unfortunately) We will not have the time to be exhaustive on each topic\n",
      "    * (Reference will be provided)\n",
      "- My aim here is to talk about **the Pythonic Way**"
     ]
    },
    {
     "cell_type": "markdown",
     "metadata": {
      "slideshow": {
       "slide_type": "slide"
      }
     },
     "source": [
      "# Algorithm Analysis (`basiscs`)\n",
      "\n",
      "<blockquote>\n",
      "    We need a technique to compare the efficiency of Algorithms without implementing them\n",
      "</blockquote>"
     ]
    },
    {
     "cell_type": "markdown",
     "metadata": {
      "slideshow": {
       "slide_type": "fragment"
      }
     },
     "source": [
      "* The RAM Model of Computation"
     ]
    },
    {
     "cell_type": "markdown",
     "metadata": {
      "slideshow": {
       "slide_type": "fragment"
      }
     },
     "source": [
      "* The Asymptotic Analysis of the worst-case complexity\n",
      "    - `a.k.a.` *The No-Win Scenario*\n",
      "\n",
      "<p><img src=\"files/images/enterprise.jpg\" width=\"30%\" style=\"float:left\"/></p>"
     ]
    },
    {
     "cell_type": "markdown",
     "metadata": {
      "slideshow": {
       "slide_type": "subslide"
      }
     },
     "source": [
      "## The RAM Model of Computation\n",
      "\n",
      "* Each *simple* operation (i.e., $+, *, -, =, \\mathtt{if}, \\mathtt{call}$)\n",
      "    takes exactly **one time step**"
     ]
    },
    {
     "cell_type": "markdown",
     "metadata": {
      "slideshow": {
       "slide_type": "fragment"
      }
     },
     "source": [
      "* Loops and Functions are **not** considered *simple* operations"
     ]
    },
    {
     "cell_type": "markdown",
     "metadata": {
      "slideshow": {
       "slide_type": "fragment"
      }
     },
     "source": [
      "* Each memory access takes exactly **one time step**. \n",
      "\n",
      "    - Thus, we have as much memory as we need. \n",
      "    - The RAM model takes no notice of whether an item is in cache or on the disk. \n",
      "    \n",
      "    "
     ]
    },
    {
     "cell_type": "markdown",
     "metadata": {
      "slideshow": {
       "slide_type": "subslide"
      }
     },
     "source": [
      "## It's Greek to Me!!\n",
      "\n",
      "* $O$ : *Worst-case* Complexity\n",
      "* $\\Theta$: *Average-case* Complexity\n",
      "* $\\Omega$: *Best-case Complexity*"
     ]
    },
    {
     "cell_type": "markdown",
     "metadata": {
      "slideshow": {
       "slide_type": "subslide"
      }
     },
     "source": [
      "### The Big-Oh Notation\n",
      "\n",
      "**FYI:** `Originally it was *Big Omicron*`\n",
      "\n",
      "<p class=\"gap\"></p>\n",
      "\n",
      "> $f(n) = O(g(n))$ means $c \\cdot g(n)$ is an upper bound on $f(n)$. \n",
      ">  \n",
      "> Thus there exists some constant $c$ such that $f(n)$ is always $\\leq c \\cdot g(n)$, for large enough $n$ \n",
      "> (i.e., $n \u2265 n_0$ for some constant $n_0$).\n",
      "\n",
      "<p class=\"gap\"></p>\n",
      "\n",
      "\n",
      "\n"
     ]
    },
    {
     "cell_type": "markdown",
     "metadata": {
      "slideshow": {
       "slide_type": "fragment"
      }
     },
     "source": [
      "$T \\in O(n^2)$\n",
      "\n",
      "<center>\n",
      "<img src=\"files/images/bigo.png\" width=\"40%\" />\n",
      "</center>"
     ]
    },
    {
     "cell_type": "markdown",
     "metadata": {
      "slideshow": {
       "slide_type": "subslide"
      }
     },
     "source": [
      "## Infinities Dominance Relations\n",
      "\n",
      "\n",
      "Complexity | Name\n",
      "-----------|-----\n",
      "$\\Theta(1)$ | Constant\n",
      "$\\Theta(\\log n)$ | Logarithmic\n",
      "$O(n)$ | Linear\n",
      "$O(n \\log n)$ | Loglinear\n",
      "$O(n^2)$ | Quadratic\n",
      "$O(n^3)$ | Cubic\n",
      "$O(n^k)$ | *Polynomial*\n",
      "$\\Omega(k^n)$ | Exponential\n",
      "$\\Theta(n!)$ | Factorial\n",
      "\n",
      "\n",
      "\n",
      "\n"
     ]
    },
    {
     "cell_type": "markdown",
     "metadata": {
      "slideshow": {
       "slide_type": "slide"
      }
     },
     "source": [
      "# Graphs\n",
      "\n",
      "<img src=\"files/images/little_g.png\" width=\"20%\" style=\"float: right;\">\n",
      "\n",
      "* Graphs are one of the *unifying* themes of computer science\n",
      "    - Great Data Structure\n",
      "    - A Powerful mental model"
     ]
    },
    {
     "cell_type": "markdown",
     "metadata": {
      "slideshow": {
       "slide_type": "fragment"
      }
     },
     "source": [
      "* Graphs can *represent* (almost) all kinds of structures and systems\n",
      "    - Transportation networks\n",
      "    - **Social** networks\n",
      "    - Dependency networks \n",
      "        * (e.g., dependency of a software package or a piece of code)\n"
     ]
    },
    {
     "cell_type": "markdown",
     "metadata": {
      "slideshow": {
       "slide_type": "fragment"
      }
     },
     "source": [
      "* Graphs comes in different **flavors**\n",
      "    - different expressivity"
     ]
    },
    {
     "cell_type": "markdown",
     "metadata": {
      "slideshow": {
       "slide_type": "subslide"
      }
     },
     "source": [
      "# Graph Terminology in a Nutshell\n",
      "\n",
      "* $G = (V, E)$\n",
      "    - $V$: Set of *vertices*\n",
      "    - $E$: Set of *edges*\n",
      "    "
     ]
    },
    {
     "cell_type": "markdown",
     "metadata": {
      "slideshow": {
       "slide_type": "fragment"
      }
     },
     "source": [
      "* Vertices with an edge between them are *adjacent*\n",
      "    - the edge is then *incident* to both"
     ]
    },
    {
     "cell_type": "markdown",
     "metadata": {
      "slideshow": {
       "slide_type": "fragment"
      }
     },
     "source": [
      "* $G' = (V', E')$ is a *subgraph* of G where\n",
      "    - $V' \\in V$\n",
      "    - $E' = { (u, v) \\in E : u \\in V' & v \\in V' }$"
     ]
    },
    {
     "cell_type": "markdown",
     "metadata": {
      "slideshow": {
       "slide_type": "fragment"
      }
     },
     "source": [
      "* A *path* is a subgraph where the edges connect the nodes in a sequence\n",
      "    \n",
      "* A *cycle* is like a path, except that the last edge links the last node to the first.\n",
      "    "
     ]
    },
    {
     "cell_type": "markdown",
     "metadata": {
      "slideshow": {
       "slide_type": "slide"
      }
     },
     "source": [
      "# Flavors of Graphs"
     ]
    },
    {
     "cell_type": "markdown",
     "metadata": {
      "slideshow": {
       "slide_type": "subslide"
      }
     },
     "source": [
      "# Undirected *vs* Directed\n",
      "\n",
      "* **Undirected**: $G = (V, E)$\n",
      "* **Directed**: $G = (N, A)$\n",
      "\n",
      "<center>\n",
      "    <img src=\"files/images/03_directed_undirected.png\" width=\"80%\" />\n",
      "</center>\n",
      "\n"
     ]
    },
    {
     "cell_type": "markdown",
     "metadata": {
      "slideshow": {
       "slide_type": "slide"
      }
     },
     "source": [
      "# Unweighted *vs* Weighted\n",
      "\n",
      "<center>\n",
      "    <img src=\"files/images/04_weighted_unweighted.png\" width=\"80%\" />\n",
      "</center>"
     ]
    },
    {
     "cell_type": "markdown",
     "metadata": {
      "slideshow": {
       "slide_type": "notes"
      }
     },
     "source": [
      "*  Each edge (or vertex) in a weighted graph G is as- signed a numerical value, or weight. \n",
      "*  In unweighted graphs, there is no cost distinction between various edges and vertices.\n",
      "\n",
      "* The difference between weighted and unweighted graphs becomes particularly apparent in finding the shortest path between two vertices. \n",
      "\n",
      "    * For unweighted graphs, the shortest path must have the fewest number of edges\n",
      "    * Shortest paths in weighted graphs requires more sophisticated algorithms\n",
      "    "
     ]
    },
    {
     "cell_type": "markdown",
     "metadata": {
      "slideshow": {
       "slide_type": "slide"
      }
     },
     "source": [
      "# Simple *vs* Non-simple\n",
      "\n",
      "<center>\n",
      "    <img src=\"files/images/01_simple_nonsimple.png\" width=\"80%\" />\n",
      "</center>"
     ]
    },
    {
     "cell_type": "markdown",
     "metadata": {
      "slideshow": {
       "slide_type": "notes"
      }
     },
     "source": [
      "* Certain types of edges complicate the task of working with graphs. \n",
      "* A **self-loop** is an edge (x, x) involving only one vertex. \n",
      "* An edge (x,y) is a **multiedge** if it occurs more than once in the graph.\n",
      "* Requires more complicated Data structures"
     ]
    },
    {
     "cell_type": "markdown",
     "metadata": {
      "slideshow": {
       "slide_type": "slide"
      }
     },
     "source": [
      "# Cyclic *vs* Acyclic\n",
      "\n",
      "* **Trees**: Connected, acyclic, undirected Graphs\n",
      "* **DAG**: *Directed Acyclic Graphs*\n",
      "    - Topological Sorting\n",
      "\n",
      "<center>\n",
      "    <img src=\"files/images/02_cyclic_acyclic.png\" width=\"80%\" />\n",
      "</center>"
     ]
    },
    {
     "cell_type": "markdown",
     "metadata": {
      "slideshow": {
       "slide_type": "slide"
      }
     },
     "source": [
      "# Unlabeled *vs* Labeled \n",
      "\n",
      "<center>\n",
      "    <img src=\"files/images/04_b_label.png\" width=\"80%\" />\n",
      "</center>"
     ]
    },
    {
     "cell_type": "markdown",
     "metadata": {
      "slideshow": {
       "slide_type": "notes"
      }
     },
     "source": [
      "* Each vertex is assigned a unique name or identifier \n",
      "    * to **distinguish** it from all other vertices. \n",
      "* In unlabeled graphs, no such distinctions have been made."
     ]
    },
    {
     "cell_type": "markdown",
     "metadata": {
      "slideshow": {
       "slide_type": "slide"
      }
     },
     "source": [
      "# Sparse *vs* Dense \n",
      "\n",
      "* **Sparse** Graph: only a *small* fraction of vertex pairs have edges \n",
      "    * ${n \\choose 2}$ edges for $n$ vertices\n",
      "\n",
      "<center>\n",
      "    <img src=\"files/images/05_sparse_dense.png\" width=\"80%\" />\n",
      "</center>"
     ]
    },
    {
     "cell_type": "markdown",
     "metadata": {
      "slideshow": {
       "slide_type": "slide"
      }
     },
     "source": [
      "# Explicit *vs* Implicit \n",
      "\n",
      "<center>\n",
      "    <img src=\"files/images/06_implicit_explicit.png\" width=\"80%\" />\n",
      "</center>"
     ]
    },
    {
     "cell_type": "markdown",
     "metadata": {
      "slideshow": {
       "slide_type": "slide"
      }
     },
     "source": [
      "# Graph Representations"
     ]
    },
    {
     "cell_type": "markdown",
     "metadata": {
      "slideshow": {
       "slide_type": "subslide"
      }
     },
     "source": [
      "## Adjacency Lists and the like\n",
      "\n",
      "* One of the most intuitive ways of implementing graphs. \n",
      "* For each node, we can access a list (or set or other container or iterable) of its neighbors."
     ]
    },
    {
     "cell_type": "markdown",
     "metadata": {
      "slideshow": {
       "slide_type": "fragment"
      }
     },
     "source": [
      "### Example Graph\n",
      "\n",
      "* Nodes labeled from $a$ to $h$\n",
      "\n",
      "<center>\n",
      "<img src=\"files/images/graph example.png\" width=\"50%\" />\n",
      "</center>"
     ]
    },
    {
     "cell_type": "markdown",
     "metadata": {
      "slideshow": {
       "slide_type": "subslide"
      }
     },
     "source": [
      "## A Straightforward Representation: Adjacency Sets\n",
      "\n",
      "* **Simplest way!**: Let's assume we have numbered the nodes $ a=0,\\ b=1 \\ldots h=7\\ (n-1)$"
     ]
    },
    {
     "cell_type": "markdown",
     "metadata": {
      "slideshow": {
       "slide_type": "fragment"
      }
     },
     "source": [
      "```\n",
      "    a, b, c, d, e, f, g, h = range(8)\n",
      "    N = [\n",
      "        {b, c, d, e, f},    # a\n",
      "        {c, e},             # b\n",
      "        {d},                # c\n",
      "        {e},                # d\n",
      "        {f},                # e\n",
      "        {c, g, h},          # f\n",
      "        {f, h},             # g\n",
      "        {f, g}              # h\n",
      "    ]\n",
      "```\n",
      "\n",
      "* The name $N$ has been used since in graph theory $N(v)$ represents the set of $v$ neighbors\n",
      "    - Similarly `N[v]`: neighborhood of node `v`\n"
     ]
    },
    {
     "cell_type": "code",
     "collapsed": false,
     "input": [
      "a, b, c, d, e, f, g, h = range(8)\n",
      "N = [\n",
      "    {b, c, d, e, f},    # a\n",
      "    {c, e},             # b\n",
      "    {d},                # c\n",
      "    {e},                # d\n",
      "    {f},                # e\n",
      "    {c, g, h},          # f\n",
      "    {f, h},             # g\n",
      "    {f, g}              # h\n",
      "]"
     ],
     "language": "python",
     "metadata": {
      "slideshow": {
       "slide_type": "skip"
      }
     },
     "outputs": [],
     "prompt_number": 1
    },
    {
     "cell_type": "code",
     "collapsed": false,
     "input": [
      "len(N[f])  # Degree"
     ],
     "language": "python",
     "metadata": {
      "slideshow": {
       "slide_type": "fragment"
      }
     },
     "outputs": [
      {
       "metadata": {},
       "output_type": "pyout",
       "prompt_number": 2,
       "text": [
        "3"
       ]
      }
     ],
     "prompt_number": 2
    },
    {
     "cell_type": "code",
     "collapsed": false,
     "input": [
      "b in N[a]  # Neighborhood membership"
     ],
     "language": "python",
     "metadata": {
      "slideshow": {
       "slide_type": "fragment"
      }
     },
     "outputs": [
      {
       "metadata": {},
       "output_type": "pyout",
       "prompt_number": 3,
       "text": [
        "True"
       ]
      }
     ],
     "prompt_number": 3
    },
    {
     "cell_type": "markdown",
     "metadata": {
      "slideshow": {
       "slide_type": "subslide"
      }
     },
     "source": [
      "## Adjacency Lists\n",
      "\n",
      "* Replacing *sets* with *lists*"
     ]
    },
    {
     "cell_type": "code",
     "collapsed": false,
     "input": [
      "a, b, c, d, e, f, g, h = range(8)\n",
      "N = [\n",
      "    [b, c, d, e, f],    # a\n",
      "    [c, e],             # b\n",
      "    [d],                # c\n",
      "    [e],                # d\n",
      "    [f],                # e\n",
      "    [c, g, h],          # f\n",
      "    [f, h],             # g\n",
      "    [f, g]              # h\n",
      "]"
     ],
     "language": "python",
     "metadata": {},
     "outputs": [],
     "prompt_number": 4
    },
    {
     "cell_type": "code",
     "collapsed": false,
     "input": [
      "print(len(N[f]))  # Degree\n",
      "print(b in N[a])  # Neighborhood membership"
     ],
     "language": "python",
     "metadata": {
      "slideshow": {
       "slide_type": "fragment"
      }
     },
     "outputs": [
      {
       "output_type": "stream",
       "stream": "stdout",
       "text": [
        "3\n",
        "True\n"
       ]
      }
     ],
     "prompt_number": 5
    },
    {
     "cell_type": "markdown",
     "metadata": {
      "slideshow": {
       "slide_type": "fragment"
      }
     },
     "source": [
      "* This time, *Neighborhood membership* takes $\\Theta(N(v))$\n",
      "    - in case of sets it is $O(1)$ on Average\n",
      "* This can be problematic if the Graph is **dense**\n",
      "    - we could leverage on *sorted adjacency lists* and bisect\n",
      "    - $O(\\log k)$, where $k = |N(v)|$"
     ]
    },
    {
     "cell_type": "markdown",
     "metadata": {
      "slideshow": {
       "slide_type": "subslide"
      }
     },
     "source": [
      "## Yet another tweak: Adjacency dicts"
     ]
    },
    {
     "cell_type": "code",
     "collapsed": false,
     "input": [
      "a, b, c, d, e, f, g, h = range(8)\n",
      "N = [\n",
      "    {b:2, c:1, d:3, e:9, f:4},    # a\n",
      "    {c:4, e:3},                   # b\n",
      "    {d:8},                        # c\n",
      "    {e:7},                        # d\n",
      "    {f:5},                        # e\n",
      "    {c:2, g:2, h:2},              # f\n",
      "    {f:1, h:6},                   # g\n",
      "    {f:9, g:8}                    # h\n",
      "]"
     ],
     "language": "python",
     "metadata": {
      "slideshow": {
       "slide_type": "-"
      }
     },
     "outputs": [],
     "prompt_number": 6
    },
    {
     "cell_type": "markdown",
     "metadata": {},
     "source": [
      "* (sort of *Sparse*) *Weighted* Graph Representation"
     ]
    },
    {
     "cell_type": "code",
     "collapsed": false,
     "input": [
      "len(N[f])  # Degree"
     ],
     "language": "python",
     "metadata": {
      "slideshow": {
       "slide_type": "-"
      }
     },
     "outputs": [
      {
       "metadata": {},
       "output_type": "pyout",
       "prompt_number": 7,
       "text": [
        "3"
       ]
      }
     ],
     "prompt_number": 7
    },
    {
     "cell_type": "code",
     "collapsed": false,
     "input": [
      "b in N[a]  # Neighborhood membership"
     ],
     "language": "python",
     "metadata": {},
     "outputs": [
      {
       "metadata": {},
       "output_type": "pyout",
       "prompt_number": 8,
       "text": [
        "True"
       ]
      }
     ],
     "prompt_number": 8
    },
    {
     "cell_type": "code",
     "collapsed": false,
     "input": [
      "N[a][b]    # Edge weight for (a, b)"
     ],
     "language": "python",
     "metadata": {
      "slideshow": {
       "slide_type": "fragment"
      }
     },
     "outputs": [
      {
       "metadata": {},
       "output_type": "pyout",
       "prompt_number": 9,
       "text": [
        "2"
       ]
      }
     ],
     "prompt_number": 9
    },
    {
     "cell_type": "markdown",
     "metadata": {
      "slideshow": {
       "slide_type": "subslide"
      }
     },
     "source": [
      "## A more flexible approach\n",
      "\n",
      "* Python Patterns - Implementing Graphs: [https://www.python.org/doc/essays/graphs/]\n"
     ]
    },
    {
     "cell_type": "code",
     "collapsed": false,
     "input": [
      "graph = {'A': ['B', 'C'],\n",
      "             'B': ['C', 'D'],\n",
      "             'C': ['D'],\n",
      "             'D': ['C'],\n",
      "             'E': ['F'],\n",
      "             'F': ['C']}"
     ],
     "language": "python",
     "metadata": {},
     "outputs": [],
     "prompt_number": 10
    },
    {
     "cell_type": "markdown",
     "metadata": {
      "slideshow": {
       "slide_type": "subslide"
      }
     },
     "source": [
      "## A Dict with Adjacency Sets\n",
      "\n",
      "* Drop the weights info\n",
      "* very silly implementation (but it depends on the rest of the code)"
     ]
    },
    {
     "cell_type": "code",
     "collapsed": false,
     "input": [
      "N = {\n",
      "        'a': set('bcdef'),\n",
      "        'b': set('ce'),\n",
      "        'c': set('d'),\n",
      "        'd': set('e'),\n",
      "        'e': set('f'),\n",
      "        'f': set('cgh'),\n",
      "        'g': set('fh'),\n",
      "        'h': set('fg')\n",
      "    }"
     ],
     "language": "python",
     "metadata": {
      "slideshow": {
       "slide_type": "skip"
      }
     },
     "outputs": [],
     "prompt_number": 11
    },
    {
     "cell_type": "code",
     "collapsed": false,
     "input": [
      "'b' in N['a']  # Neighborhood membership - Still O(1) in the Average Case"
     ],
     "language": "python",
     "metadata": {},
     "outputs": [
      {
       "metadata": {},
       "output_type": "pyout",
       "prompt_number": 12,
       "text": [
        "True"
       ]
      }
     ],
     "prompt_number": 12
    },
    {
     "cell_type": "code",
     "collapsed": false,
     "input": [
      "len(N['f'])  # Degree"
     ],
     "language": "python",
     "metadata": {},
     "outputs": [
      {
       "metadata": {},
       "output_type": "pyout",
       "prompt_number": 13,
       "text": [
        "3"
       ]
      }
     ],
     "prompt_number": 13
    },
    {
     "cell_type": "markdown",
     "metadata": {
      "slideshow": {
       "slide_type": "subslide"
      }
     },
     "source": [
      "## Adjacency Matrix\n",
      "\n",
      "* The other common form of Graph Representation\n"
     ]
    },
    {
     "cell_type": "markdown",
     "metadata": {
      "slideshow": {
       "slide_type": "fragment"
      }
     },
     "source": [
      "* We list **all** the neighbors for **each** node\n",
      "    - store a value indicating the *presence* (*absence*) of the edge in the Graph\n",
      "    - That is: `True` or `False`"
     ]
    },
    {
     "cell_type": "markdown",
     "metadata": {
      "slideshow": {
       "slide_type": "subslide"
      }
     },
     "source": [
      "## Adjacency Matrix with Nested Lists"
     ]
    },
    {
     "cell_type": "code",
     "collapsed": false,
     "input": [
      "a, b, c, d, e, f, g, h = range(8)\n",
      "\n",
      "#     a b c d e f g h\n",
      "N = [[0,1,1,1,1,1,0,0], # a\n",
      "     [0,0,1,0,1,0,0,0], # b\n",
      "     [0,0,0,1,0,0,0,0], # c\n",
      "     [0,0,0,0,1,0,0,0], # d\n",
      "     [0,0,0,0,0,1,0,0], # e\n",
      "     [0,0,1,0,0,0,1,1], # f\n",
      "     [0,0,0,0,0,1,0,1], # g\n",
      "     [0,0,0,0,0,1,1,0]] # h"
     ],
     "language": "python",
     "metadata": {
      "slideshow": {
       "slide_type": "-"
      }
     },
     "outputs": [],
     "prompt_number": 14
    },
    {
     "cell_type": "code",
     "collapsed": false,
     "input": [
      "N[a][b]    # Neighborhood membership - Constant Time"
     ],
     "language": "python",
     "metadata": {},
     "outputs": [
      {
       "metadata": {},
       "output_type": "pyout",
       "prompt_number": 15,
       "text": [
        "1"
       ]
      }
     ],
     "prompt_number": 15
    },
    {
     "cell_type": "code",
     "collapsed": false,
     "input": [
      "sum(N[f])  # Degree"
     ],
     "language": "python",
     "metadata": {},
     "outputs": [
      {
       "metadata": {},
       "output_type": "pyout",
       "prompt_number": 16,
       "text": [
        "3"
       ]
      }
     ],
     "prompt_number": 16
    },
    {
     "cell_type": "markdown",
     "metadata": {
      "slideshow": {
       "slide_type": "subslide"
      }
     },
     "source": [
      "## Adjacency Matrix Properties\n",
      "\n",
      "* The diagonal is equals to `np.zeros(len(N))`\n",
      "    - as long as we do not allow self-loops (i.e., *pseudo-graphs*)\n",
      "\n",
      "    \n",
      " "
     ]
    },
    {
     "cell_type": "markdown",
     "metadata": {
      "slideshow": {
       "slide_type": "fragment"
      }
     },
     "source": [
      "* In case of *Undirected Graphs*\n",
      "    - Simmetric Matrix"
     ]
    },
    {
     "cell_type": "markdown",
     "metadata": {
      "slideshow": {
       "slide_type": "fragment"
      }
     },
     "source": [
      "* Extending adjacency matrices to allow for edge weights is trivial\n",
      "    - instead of storing thruth values, store the weights"
     ]
    },
    {
     "cell_type": "markdown",
     "metadata": {
      "slideshow": {
       "slide_type": "subslide"
      }
     },
     "source": [
      "## A Weight Matrix with Infinite Weight for Missing Edges"
     ]
    },
    {
     "cell_type": "code",
     "collapsed": false,
     "input": [
      "a, b, c, d, e, f, g, h = range(8)\n",
      "_ = float('inf')\n",
      "#     a b c d e f g h\n",
      "W = [[0,2,1,3,9,4,_,_], # a\n",
      "     [_,0,4,_,3,_,_,_], # b\n",
      "     [_,_,0,8,_,_,_,_], # c\n",
      "     [_,_,_,0,7,_,_,_], # d\n",
      "     [_,_,_,_,0,5,_,_], # e\n",
      "     [_,_,2,_,_,0,2,2], # f\n",
      "     [_,_,_,_,_,1,0,6], # g\n",
      "     [_,_,_,_,_,9,8,0]] # h"
     ],
     "language": "python",
     "metadata": {
      "slideshow": {
       "slide_type": "-"
      }
     },
     "outputs": [],
     "prompt_number": 17
    },
    {
     "cell_type": "code",
     "collapsed": false,
     "input": [
      "inf = float('inf')\n",
      "W[a][b] < inf   # Neighborhood membership"
     ],
     "language": "python",
     "metadata": {
      "slideshow": {
       "slide_type": "fragment"
      }
     },
     "outputs": [
      {
       "metadata": {},
       "output_type": "pyout",
       "prompt_number": 18,
       "text": [
        "True"
       ]
      }
     ],
     "prompt_number": 18
    },
    {
     "cell_type": "code",
     "collapsed": false,
     "input": [
      "W[c][e] < inf   # Neighborhood membership"
     ],
     "language": "python",
     "metadata": {
      "slideshow": {
       "slide_type": "fragment"
      }
     },
     "outputs": [
      {
       "metadata": {},
       "output_type": "pyout",
       "prompt_number": 19,
       "text": [
        "False"
       ]
      }
     ],
     "prompt_number": 19
    },
    {
     "cell_type": "code",
     "collapsed": false,
     "input": [
      "sum(1 for w in W[a] if w < inf) - 1  # Degree"
     ],
     "language": "python",
     "metadata": {
      "slideshow": {
       "slide_type": "fragment"
      }
     },
     "outputs": [
      {
       "metadata": {},
       "output_type": "pyout",
       "prompt_number": 20,
       "text": [
        "5"
       ]
      }
     ],
     "prompt_number": 20
    },
    {
     "cell_type": "markdown",
     "metadata": {
      "slideshow": {
       "slide_type": "slide"
      }
     },
     "source": [
      "## Efficient Graph Representation\n",
      "\n",
      "<center>\n",
      "    <p class=\"gap2\"></p>\n",
      "    <img src=\"files/images/Efficient Graph Repr.png\" width=\"40%\" />\n",
      "    <h4>Jeremy P. Spinrad </h4>\n",
      "    <h5> American Mathematical Society</h5>\n",
      "    <p class=\"gap2\"></p>\n",
      "</center>"
     ]
    },
    {
     "cell_type": "markdown",
     "metadata": {
      "slideshow": {
       "slide_type": "subslide"
      }
     },
     "source": [
      "## Efficient Graph Representation\n",
      "\n",
      "### Classical Misconception:\n",
      "\n",
      "> There are two methods for representing a graph in a computer; adjacency matrices, and adjacency lists. \n",
      "\n",
      "> It is faster to work with adjacency matrices, but they use more space than adjacency lists, \n",
      "> so you will choose one or the other depending on which resource is more important to you.\n",
      "    "
     ]
    },
    {
     "cell_type": "markdown",
     "metadata": {
      "slideshow": {
       "slide_type": "fragment"
      }
     },
     "source": [
      "* There are *many* interesting way of representing graphs\n",
      "    - *edge lists* (*sets*)\n",
      "    - *incidence matrix*"
     ]
    },
    {
     "cell_type": "markdown",
     "metadata": {
      "slideshow": {
       "slide_type": "fragment"
      }
     },
     "source": [
      "* There are *specialized* representations for graph types\n",
      "    - trees\n",
      "    - interval graphs"
     ]
    },
    {
     "cell_type": "markdown",
     "metadata": {
      "slideshow": {
       "slide_type": "fragment"
      }
     },
     "source": [
      "* Rule of thumb:\n",
      "    - Decide on the asymptotic (overall) complexity\n",
      "    - Decide on the Graph you're dealing with"
     ]
    },
    {
     "cell_type": "markdown",
     "metadata": {
      "slideshow": {
       "slide_type": "slide"
      }
     },
     "source": [
      "# Traversing Mazes\n",
      "\n",
      "* A partial traversal of a typical role-playing dungeon. \n",
      "* Think of the rooms as nodes and the doors as edges. \n",
      "* The traversal tree is defined by your tracks; \n",
      "* the fringe (the traversal queue) consists of the neighboring rooms. \n",
      "* The remaining (darkened) rooms haven't been discovered yet.\n",
      "\n",
      "<center>\n",
      "<img src=\"files/images/maze.png\" width=\"40%\"/>\n",
      "</center>"
     ]
    },
    {
     "cell_type": "markdown",
     "metadata": {
      "slideshow": {
       "slide_type": "fragment"
      }
     },
     "source": [
      "* I'll be using Dicts with Adjacency Sets for Graph Representation"
     ]
    },
    {
     "cell_type": "markdown",
     "metadata": {
      "slideshow": {
       "slide_type": "subslide"
      }
     },
     "source": [
      "## Tremaux's algorithm for Traversing Mazes\n",
      "\n",
      "* (As described by E. Lucas in *\u201cR\u00e9cr\u00e9ations Math\u00e9matiques* in 1891):\n",
      "\n",
      "> To completely traverse all the passages of a labyrinth twice, from any initial point, simply follow the rules posed by \n",
      "> Tr\u00e9maux, marking each entry to or exit from an intersection. \n",
      "\n",
      "> These rules may be summarized as follows: \n",
      "> When possible, avoid passing an intersection you have already visited, and avoid taking passages you have already traversed. > Is this not a prudent approach, which also applies in every day life?"
     ]
    },
    {
     "cell_type": "markdown",
     "metadata": {
      "slideshow": {
       "slide_type": "fragment"
      }
     },
     "source": [
      "* Tr\u00e9maux would then tell you to start walking in any direction;\n",
      "* **backtracking** whenever you came to a dead end or an intersection you had already walked through (to avoid cycles)."
     ]
    },
    {
     "cell_type": "markdown",
     "metadata": {
      "slideshow": {
       "slide_type": "subslide"
      }
     },
     "source": [
      "## Arbitrary Walk"
     ]
    },
    {
     "cell_type": "code",
     "collapsed": false,
     "input": [
      "def walk(G, s):                                 # Walk the graph from node s\n",
      "    P, Q = dict(), set()                        # Predecessors and \"To Visit\" queue\n",
      "    P[s] = None                                 # s has no predecessor\n",
      "    Q.add(s)                                    # We plan on starting with s\n",
      "    while Q:                                    # Still nodes to visit\n",
      "        u = Q.pop()                             # Pick one, arbitrarily\n",
      "        for v in G[u].difference(P, S):         # New nodes?\n",
      "            Q.add(v)                            # We plan to visit them!\n",
      "            P[v] = u                            # Remember where we came from\n",
      "    return P                                    # The traversal tree"
     ],
     "language": "python",
     "metadata": {
      "slideshow": {
       "slide_type": "-"
      }
     },
     "outputs": [],
     "prompt_number": 21
    },
    {
     "cell_type": "markdown",
     "metadata": {
      "slideshow": {
       "slide_type": "fragment"
      }
     },
     "source": [
      "* The `walk` function will traverse a single connected component\n",
      "* `P` is the Predecessors Tree"
     ]
    },
    {
     "cell_type": "markdown",
     "metadata": {
      "slideshow": {
       "slide_type": "subslide"
      }
     },
     "source": [
      "## Find all the Connected Components"
     ]
    },
    {
     "cell_type": "code",
     "collapsed": false,
     "input": [
      "def components(G):                              # The connected components\n",
      "    comp = []\n",
      "    seen = set()                                # Nodes we've already seen\n",
      "    for u in G:                                 # Try every starting point\n",
      "        if u in seen: continue                  # Seen? Ignore it\n",
      "        C = walk(G, u)                          # Traverse component\n",
      "        seen.update(C)                          # Add keys of C to seen\n",
      "        comp.append(C)                          # Collect the components\n",
      "    return comp"
     ],
     "language": "python",
     "metadata": {
      "slideshow": {
       "slide_type": "-"
      }
     },
     "outputs": [],
     "prompt_number": 22
    },
    {
     "cell_type": "markdown",
     "metadata": {
      "slideshow": {
       "slide_type": "fragment"
      }
     },
     "source": [
      "* Time Complexity: $\\Theta(E + V)$"
     ]
    },
    {
     "cell_type": "markdown",
     "metadata": {
      "slideshow": {
       "slide_type": "subslide"
      }
     },
     "source": [
      "## Go Deep!\n",
      "\n",
      "### Depth-first Traversal"
     ]
    },
    {
     "cell_type": "code",
     "collapsed": false,
     "input": [
      "def rec_dfs(G, s, S=None):\n",
      "    if S is None: S = set()                     # Initialize the history\n",
      "    S.add(s)                                    # We've visited s\n",
      "    for u in G[s]:                              # Explore neighbors\n",
      "        if u in S: continue                     # Already visited: Skip\n",
      "        rec_dfs(G, u, S)                        # New: Explore recursively\n",
      "    return S"
     ],
     "language": "python",
     "metadata": {},
     "outputs": [],
     "prompt_number": 23
    },
    {
     "cell_type": "markdown",
     "metadata": {
      "slideshow": {
       "slide_type": "subslide"
      }
     },
     "source": [
      "## Go Deep (Iteratively) !-)"
     ]
    },
    {
     "cell_type": "code",
     "collapsed": false,
     "input": [
      "def iter_dfs(G, s):\n",
      "    S, Q = set(), []                            # Visited-set and queue\n",
      "    Q.append(s)                                 # We plan on visiting s\n",
      "    while Q:                                    # Planned nodes left?\n",
      "        u = Q.pop()                             # Get one\n",
      "        if u in S: continue                     # Already visited? Skip it\n",
      "        S.add(u)                                # We've visited it now\n",
      "        Q.extend(G[u])                          # Schedule all neighbors\n",
      "        yield u                                 # Report u as visited"
     ],
     "language": "python",
     "metadata": {
      "slideshow": {
       "slide_type": "-"
      }
     },
     "outputs": [],
     "prompt_number": 24
    },
    {
     "cell_type": "markdown",
     "metadata": {
      "slideshow": {
       "slide_type": "fragment"
      }
     },
     "source": [
      "* In walk implementation, we used `set` so we'd risk having the same node scheduled for more than one visit."
     ]
    },
    {
     "cell_type": "markdown",
     "metadata": {
      "slideshow": {
       "slide_type": "fragment"
      }
     },
     "source": [
      "* In DFS we use **LIFO** Queues\n",
      "    - every node is scheduled for visit only once!"
     ]
    },
    {
     "cell_type": "markdown",
     "metadata": {
      "slideshow": {
       "slide_type": "subslide"
      }
     },
     "source": [
      "## General Traversal"
     ]
    },
    {
     "cell_type": "code",
     "collapsed": false,
     "input": [
      "def traverse(G, s, qtype=set):\n",
      "    S, Q = set(), qtype()\n",
      "    Q.add(s)\n",
      "    while Q:\n",
      "        u = Q.pop()\n",
      "        if u in S: continue\n",
      "        S.add(u)\n",
      "        for v in G[u]:\n",
      "            Q.add(v)\n",
      "        yield u\n",
      "        \n",
      "class stack(list):\n",
      "    add = list.append\n",
      "    \n",
      "# -- CALL IT\n",
      "#traverse(G, s)  # arbitrary walk\n",
      "#traverse(G, s, qtype=stack)  # Depth-first traversal"
     ],
     "language": "python",
     "metadata": {
      "slideshow": {
       "slide_type": "-"
      }
     },
     "outputs": [],
     "prompt_number": 25
    },
    {
     "cell_type": "markdown",
     "metadata": {
      "slideshow": {
       "slide_type": "fragment"
      }
     },
     "source": [
      "* Using `yield` to allow for *lazy interations*\n",
      "    - Generators in Python\n",
      "    - More efficient for dense (and big) graphs"
     ]
    },
    {
     "cell_type": "markdown",
     "metadata": {
      "slideshow": {
       "slide_type": "subslide"
      }
     },
     "source": [
      "## Inifinite Mazes and (unweighted) Shortest Path\n",
      "\n",
      "* So far, the overeager behavior of DFS hasn't been a problem"
     ]
    },
    {
     "cell_type": "markdown",
     "metadata": {
      "slideshow": {
       "slide_type": "slide"
      }
     },
     "source": [
      "* What if the Maze is very large?\n",
      "    - The DFS may run for ages and *never* get back!"
     ]
    },
    {
     "cell_type": "markdown",
     "metadata": {
      "slideshow": {
       "slide_type": "slide"
      }
     },
     "source": [
      "* What if we would like to follow the *Shortest Path* in Traversing the Maze?\n",
      "    - i.e., the minimum number of intersections"
     ]
    },
    {
     "cell_type": "markdown",
     "metadata": {
      "slideshow": {
       "slide_type": "slide"
      }
     },
     "source": [
      "* First attempt: **IDDFS**\n",
      "    - *Iterative Deepening Depth-First Search*\n",
      "* Basic Idea:\n",
      "    - `yielded`: list of all that have been discovered\n",
      "    - apply DFS with a depth limit `d`\n",
      "        - from $0$ to $|G| - 1$"
     ]
    },
    {
     "cell_type": "markdown",
     "metadata": {
      "slideshow": {
       "slide_type": "subslide"
      }
     },
     "source": [
      "## Breadth-first Search"
     ]
    },
    {
     "cell_type": "code",
     "collapsed": false,
     "input": [
      "def bfs(G, s):\n",
      "    P, Q = {s: None}, deque([s])                # Parents and FIFO queue\n",
      "    while Q:\n",
      "        u = Q.popleft()                         # Constant-time for deque\n",
      "        for v in G[u]:\n",
      "            if v in P: continue                 # Already has parent\n",
      "            P[v] = u                            # Reached from u: u is parent\n",
      "            Q.append(v)\n",
      "    return P"
     ],
     "language": "python",
     "metadata": {
      "slideshow": {
       "slide_type": "-"
      }
     },
     "outputs": [],
     "prompt_number": 26
    },
    {
     "cell_type": "markdown",
     "metadata": {
      "slideshow": {
       "slide_type": "slide"
      }
     },
     "source": [
      "* Very Similar to the `iter_dfs` function\n",
      "    - using `collections.dequeue`\n",
      "    \n",
      "* Constant Time Operations (i.e., $O(1)$)"
     ]
    },
    {
     "cell_type": "markdown",
     "metadata": {
      "slideshow": {
       "slide_type": "slide"
      }
     },
     "source": [
      "* Time Complexity of BFS: $\\Theta(E+V)$\n",
      "* It can be demonstrated that BFS calculates **always** a correct answer"
     ]
    },
    {
     "cell_type": "markdown",
     "metadata": {
      "slideshow": {
       "slide_type": "slide"
      }
     },
     "source": [
      "# Shortest Paths"
     ]
    },
    {
     "cell_type": "markdown",
     "metadata": {
      "slideshow": {
       "slide_type": "slide"
      }
     },
     "source": [
      "* (This time:) Shortest Path means the *lighter* path \n",
      "    - Path with the minimum cost\n",
      "\n",
      "* There are many algorithms for shortest paths on Graphs\n",
      "    - e.g., BellMan Ford, Dijkstra, Floyd-Warshall, Johnson, $\\ldots$\n",
      "    - They are named by their creator(s)"
     ]
    },
    {
     "cell_type": "markdown",
     "metadata": {
      "slideshow": {
       "slide_type": "fragment"
      }
     },
     "source": [
      "* They differentiate by the \"flavor\" of Graphs they support\n",
      "    - DAG with positive weights (e.g., Dijkstra)\n",
      "    - DAG with positive and negative weights\n",
      "    - Undirected graphs"
     ]
    },
    {
     "cell_type": "markdown",
     "metadata": {
      "slideshow": {
       "slide_type": "fragment"
      }
     },
     "source": [
      "* They also differentiate by the (Optimization) problem they solve:\n",
      "    - Shortest Path Single-Source\n",
      "        - The shortest path on a graph starting from a single node\n",
      "    - Shortest Path ALL-Pairs\n",
      "        - The shortest path on All possible pairs of nodes\n"
     ]
    },
    {
     "cell_type": "markdown",
     "metadata": {
      "slideshow": {
       "slide_type": "subslide"
      }
     },
     "source": [
      "## Shortest Past on DAGS"
     ]
    },
    {
     "cell_type": "markdown",
     "metadata": {
      "slideshow": {
       "slide_type": "slide"
      }
     },
     "source": [
      "<center>\n",
      "<img src=\"files/images/pillow_talk.jpg\" />\n",
      "</center>\n",
      "\n",
      "* We will **not** talk about *Bellman-Ford*\n",
      "* We will talk about **Dijkstra** :-)\n",
      "    - (somewhat) related to the BFS"
     ]
    },
    {
     "cell_type": "markdown",
     "metadata": {
      "slideshow": {
       "slide_type": "subslide"
      }
     },
     "source": [
      "## Djikstra Shortest Path on DAG\n",
      "\n",
      "* RELAX - *take it easy!*"
     ]
    },
    {
     "cell_type": "code",
     "collapsed": false,
     "input": [
      "inf = float('inf')\n",
      "def relax(W, u, v, D, P):\n",
      "    d = D.get(u,inf) + W[u][v]                  # Possible shortcut estimate\n",
      "    if d < D.get(v,inf):                        # Is it really a shortcut?\n",
      "        D[v], P[v] = d, u                       # Update estimate and parent\n",
      "        return True                             # There was a change!"
     ],
     "language": "python",
     "metadata": {},
     "outputs": [],
     "prompt_number": 27
    },
    {
     "cell_type": "markdown",
     "metadata": {
      "slideshow": {
       "slide_type": "slide"
      }
     },
     "source": [
      "* The basic Idea is: **propagate** knowledge about shortest paths through graph one step at a time\n",
      "\n",
      "* We look for an improvement to the currently known distance to v by trying to take a shortcut through u. \n",
      "* If it is a shortcut, we register the new distance and remember where we came from (by setting P[v] to u)."
     ]
    },
    {
     "cell_type": "markdown",
     "metadata": {
      "slideshow": {
       "slide_type": "slide"
      }
     },
     "source": [
      "## Dijkstra Algorithm (in Python)\n",
      "\n",
      "* with `heapq`: *Priority Queue*"
     ]
    },
    {
     "cell_type": "code",
     "collapsed": false,
     "input": [
      "from heapq import heappush, heappop\n",
      "def dijkstra(G, s):\n",
      "    D, P, Q, S = {s:0}, {}, [(0,s)], set()      # Est., tree, queue, visited\n",
      "    while Q:                                    # Still unprocessed nodes?\n",
      "        _, u = heappop(Q)                       # Node with lowest estimate\n",
      "        if u in S: continue                     # Already visited? Skip it\n",
      "        S.add(u)                                # We've visited it now\n",
      "        for v in G[u]:                          # Go through all its neighbors\n",
      "            relax(G, u, v, D, P)                # Relax the out-edge\n",
      "            heappush(Q, (D[v], v))              # Add to queue, w/est. as pri\n",
      "    return D, P                                 # Final D and P returned"
     ],
     "language": "python",
     "metadata": {},
     "outputs": [],
     "prompt_number": 28
    },
    {
     "cell_type": "markdown",
     "metadata": {
      "slideshow": {
       "slide_type": "slide"
      }
     },
     "source": [
      "# Shortest Path All Pairs\n",
      "\n"
     ]
    },
    {
     "cell_type": "markdown",
     "metadata": {
      "slideshow": {
       "slide_type": "subslide"
      }
     },
     "source": [
      "## Dynamic Programming (DRY)\n",
      "\n",
      "> In mathematics, computer science (...) dynamic programming is a method for solving complex problems by breaking them down into simpler subproblems. \n",
      ">It is applicable to problems exhibiting the properties of overlapping subproblems and optimal substructures.\n",
      "\n",
      "*(from Wikipedia)*"
     ]
    },
    {
     "cell_type": "markdown",
     "metadata": {
      "slideshow": {
       "slide_type": "slide"
      }
     },
     "source": [
      "* Memoization Technique\n",
      "    - Cache the value of already solved subproblems"
     ]
    },
    {
     "cell_type": "code",
     "collapsed": false,
     "input": [
      "from functools import wraps\n",
      "\n",
      "def memo(func):\n",
      "    cache = {}                                  # Stored subproblem solutions\n",
      "    @wraps(func)                                # Make wrap look like func\n",
      "    def wrap(*args):                            # The memoized wrapper\n",
      "        if args not in cache:                   # Not already computed?\n",
      "            cache[args] = func(*args)           # Compute & cache the solution\n",
      "        return cache[args]                      # Return the cached solution\n",
      "    return wrap                                 # Return the wrapper"
     ],
     "language": "python",
     "metadata": {
      "slideshow": {
       "slide_type": "fragment"
      }
     },
     "outputs": [],
     "prompt_number": 29
    },
    {
     "cell_type": "markdown",
     "metadata": {
      "slideshow": {
       "slide_type": "subslide"
      }
     },
     "source": [
      "## Floyd-Warshall Algorithm\n",
      "\n",
      "* Shortest Path (all pairs)\n",
      "\n",
      "* Let $d(u,v,k)$ be the length of the shortest path that exists from node u to node v if you're only allowed to use the k first nodes as intermediate nodes."
     ]
    },
    {
     "cell_type": "markdown",
     "metadata": {
      "slideshow": {
       "slide_type": "slide"
      }
     },
     "source": [
      "* We can decompose the problem as it follows:\n",
      "    - $d(u,v,k) = min(d(u,v,k-1), d(u,k,k-1) + d(k,v,k-1))$"
     ]
    },
    {
     "cell_type": "markdown",
     "metadata": {
      "slideshow": {
       "slide_type": "slide"
      }
     },
     "source": [
      "* We are considering whether or not include the node $k$\n",
      "    - Calculate the cost of the path $u \\leadsto k \\leadsto v$ \n",
      "* if not, simply use the existing solution, i.e., $d(u,v,k-1)$"
     ]
    },
    {
     "cell_type": "markdown",
     "metadata": {
      "slideshow": {
       "slide_type": "subslide"
      }
     },
     "source": [
      "## Floyd-Warshall (in Python)\n",
      "\n",
      "* Distances only\n",
      "* Graphs as Adjacency Matrix"
     ]
    },
    {
     "cell_type": "code",
     "collapsed": false,
     "input": [
      "def floyd_warshall1(G):\n",
      "    D = deepcopy(G)                             # No intermediates yet\n",
      "    for k in G:                                 # Look for shortcuts with k\n",
      "        for u in G:\n",
      "            for v in G:\n",
      "                D[u][v] = min(D[u][v], D[u][k] + D[k][v])\n",
      "    return D"
     ],
     "language": "python",
     "metadata": {
      "slideshow": {
       "slide_type": "-"
      }
     },
     "outputs": [],
     "prompt_number": 30
    },
    {
     "cell_type": "markdown",
     "metadata": {
      "slideshow": {
       "slide_type": "subslide"
      }
     },
     "source": [
      "## Floyd-Warshall with *memoization*\n",
      "\n",
      "* recurisive but memoized"
     ]
    },
    {
     "cell_type": "code",
     "collapsed": false,
     "input": [
      "def rec_floyd_warshall(G):                                # All shortest paths\n",
      "    @memo                                                 # Store subsolutions\n",
      "    def d(u,v,k):                                         # u to v via 1..k\n",
      "        if k==0: return G[u][v]                           # Assumes v in G[u]\n",
      "        return min(d(u,v,k-1), d(u,k,k-1) + d(k,v,k-1))   # Use k or not?\n",
      "    return {(u,v): d(u,v,len(G)) for u in G for v in G}   # D[u,v] = d(u,v,n)"
     ],
     "language": "python",
     "metadata": {
      "slideshow": {
       "slide_type": "-"
      }
     },
     "outputs": [],
     "prompt_number": 31
    },
    {
     "cell_type": "markdown",
     "metadata": {
      "slideshow": {
       "slide_type": "slide"
      }
     },
     "source": [
      "## References\n",
      "\n",
      "<center>\n",
      "<img src=\"files/images/pyalgo_book.jpg\" />\n",
      "</center>"
     ]
    },
    {
     "cell_type": "markdown",
     "metadata": {
      "slideshow": {
       "slide_type": "slide"
      }
     },
     "source": [
      "## References\n",
      "\n",
      "<center>\n",
      "<img src=\"files/images/thealgorithmdesign_book.jpg\" />\n",
      "</center>"
     ]
    },
    {
     "cell_type": "markdown",
     "metadata": {
      "slideshow": {
       "slide_type": "slide"
      }
     },
     "source": [
      "## Please ask for ~~Five Questions~~ Three Questions\n",
      "\n",
      "<p class=\"gap2\"></p>\n",
      "<center>\n",
      "<p><img src=\"files/images/bridge.jpg\" width=\"60%\"></p>\n",
      "</center>"
     ]
    },
    {
     "cell_type": "markdown",
     "metadata": {
      "slideshow": {
       "slide_type": "slide"
      }
     },
     "source": [
      "<center>\n",
      "<h1> Thank you very much for your kind attention </h1>\n",
      "\n",
      "<p class=\"gap\"></p>\n",
      "<h4> Valerio Maggio - valerio.maggio@gmail.com </h4>\n",
      "\n",
      "</center>"
     ]
    },
    {
     "cell_type": "code",
     "collapsed": false,
     "input": [
      "# If I will not answer properly, I will be casted to the Gorge of Eternal Peril"
     ],
     "language": "python",
     "metadata": {},
     "outputs": [],
     "prompt_number": 32
    },
    {
     "cell_type": "code",
     "collapsed": false,
     "input": [],
     "language": "python",
     "metadata": {},
     "outputs": []
    }
   ],
   "metadata": {}
  }
 ]
}